{
 "cells": [
  {
   "cell_type": "code",
   "execution_count": 1,
   "metadata": {},
   "outputs": [
    {
     "name": "stdout",
     "output_type": "stream",
     "text": [
      "                 city                 date   fare        ride_id\n",
      "0  Lake Jonathanshire  2018-01-14 10:14:22  13.83  5739410935873\n",
      "1  South Michelleport  2018-03-04 18:24:09  30.24  2343912425577\n",
      "----\n",
      "           city  driver_count   type\n",
      "0   Richardfort            38  Urban\n",
      "1  Williamsstad            59  Urban\n"
     ]
    }
   ],
   "source": [
    "#%matplotlib inline\n",
    "# Dependencies and Setup\n",
    "import matplotlib.pyplot as plt\n",
    "import pandas as pd\n",
    "import numpy as np\n",
    "import os\n",
    "#import seaborn as sns\n",
    "# File to Load (Remember to change these)\n",
    "#city_data_to_load = \"data/city_data.csv\"\n",
    "#ride_data_to_load = \"data/ride_data.csv\"\n",
    "\n",
    "city_data_to_load = os.path.join(\"data\",\"city_data.csv\")\n",
    "ride_data_to_load = os.path.join(\"data\",\"ride_data.csv\")\n",
    "\n",
    "\n",
    "# Read the City and Ride Data\n",
    "city_data=pd.read_csv(city_data_to_load)\n",
    "ride_data=pd.read_csv(ride_data_to_load)\n",
    "\n",
    "\n",
    "\n",
    "print(ride_data.head(2))\n",
    "print(\"----\")\n",
    "print(city_data.head(2))\n"
   ]
  },
  {
   "cell_type": "code",
   "execution_count": 2,
   "metadata": {},
   "outputs": [
    {
     "name": "stdout",
     "output_type": "stream",
     "text": [
      "           city  driver_count   type\n",
      "0   Richardfort            38  Urban\n",
      "1  Williamsstad            59  Urban\n",
      "2   Port Angela            67  Urban\n",
      "3    Rodneyfort            34  Urban\n",
      "4   West Robert            39  Urban\n"
     ]
    }
   ],
   "source": [
    "#Drop any duplicate row in city\n",
    "\n",
    "#total_rows = city_data.count\n",
    "city_data=city_data.drop_duplicates('city')\n",
    "total_rows = city_data.count\n",
    "# No duplicates in city found\n",
    "#total_rows\n",
    "print(city_data.head())"
   ]
  },
  {
   "cell_type": "code",
   "execution_count": 3,
   "metadata": {},
   "outputs": [
    {
     "name": "stdout",
     "output_type": "stream",
     "text": [
      "                 city                 date   fare        ride_id\n",
      "0  Lake Jonathanshire  2018-01-14 10:14:22  13.83  5739410935873\n",
      "1  South Michelleport  2018-03-04 18:24:09  30.24  2343912425577\n",
      "2  Port Samanthamouth  2018-02-24 04:29:00  33.44  2005065760003\n",
      "3          Rodneyfort  2018-02-10 23:22:03  23.44  5149245426178\n",
      "4          South Jack  2018-03-06 04:28:35  34.58  3908451377344\n"
     ]
    }
   ],
   "source": [
    "print(ride_data.head())"
   ]
  },
  {
   "cell_type": "code",
   "execution_count": 14,
   "metadata": {},
   "outputs": [
    {
     "name": "stdout",
     "output_type": "stream",
     "text": [
      "                city  driver_count   type                 date   fare  \\\n",
      "2250  South Jennifer             7  Rural  2018-04-01 09:32:45  21.63   \n",
      "2251  South Jennifer             7  Rural  2018-03-07 19:10:13  48.79   \n",
      "\n",
      "            ride_id  \n",
      "2250  9135979586871  \n",
      "2251  9730627367446  \n"
     ]
    }
   ],
   "source": [
    "# Combine the data into a single dataset\"\n",
    "city_ride_df=pd.merge(city_data, ride_data, on='city',how=\"outer\")\n",
    "# Display the data table for preview\n",
    "city_ride_df.head()\n"
   ]
  },
  {
   "cell_type": "code",
   "execution_count": 33,
   "metadata": {},
   "outputs": [],
   "source": [
    "# Create dataframe base on type Urban , SunUrban, Rural \n",
    "\n",
    "df_urban=city_ride_df.loc[city_ride_df['type']=='Urban']\n",
    "#print(df_urban.head(2))\n",
    "df_suburban=city_ride_df.loc[city_ride_df['type']=='Suburban']\n",
    "#print(df_suburban.head(2))\n",
    "df_rural=city_ride_df.loc[city_ride_df['type']=='Rural']\n",
    "#print(df_rural.head(2))\n",
    "\n",
    "\n",
    "#Average Fare ($) Per City\n",
    "df_urban_avg=df_urban.groupby('city')['fare'].mean()\n",
    "#df_urban_avg.head()\n",
    "df_suburban_avg=df_suburban.groupby('city')['fare'].mean()\n",
    "#df_urban_avg.head()\n",
    "df_rural_avg=df_rural.groupby('city')['fare'].mean()\n",
    "#df_rural_avg.head()\n",
    "\n",
    "\n",
    "#Total Number of Drivers\n",
    "\n",
    "df_urban_driver=df_urban.groupby('city')['driver_count'].first()\n",
    "#df_urban_driver\n",
    "df_suburban_driver=df_suburban.groupby('city')['driver_count'].first()\n",
    "#df_suburban_driver\n",
    "df_rural_driver=df_rural.groupby('city')['driver_count'].first()\n",
    "#df_rural_driver\n",
    "#df_rider_city_type.head()\n",
    "\n",
    "#Total Number of Rides Per City\n",
    "\n",
    "df_urban_count=df_urban.groupby('city')['ride_id'].count()\n",
    "#df_urban_count\n",
    "df_suburban_count=df_suburban.groupby('city')['ride_id'].count()\n",
    "#df_suburban_count\n",
    "df_rural_count=df_rural.groupby('city')['ride_id'].count()\n",
    "#df_rural_count\n",
    "#print(df_rural_driver)\n",
    "#df_rural_avg.head()\n"
   ]
  },
  {
   "cell_type": "code",
   "execution_count": 34,
   "metadata": {},
   "outputs": [
    {
     "data": {
      "text/plain": [
       "<matplotlib.collections.PathCollection at 0x1d09de2ef98>"
      ]
     },
     "execution_count": 34,
     "metadata": {},
     "output_type": "execute_result"
    },
    {
     "data": {
      "image/png": "[encoded data removed]",
      "text/plain": [
       "<Figure size 432x288 with 1 Axes>"
      ]
     },
     "metadata": {
      "needs_background": "light"
     },
     "output_type": "display_data"
    }
   ],
   "source": [
    "plt.scatter(df_urban_avg,df_urban_driver,s=df_urban_count,marker=\"o\", facecolors=\"Coral\",\n",
    "            edgecolors=\"black\",alpha=0.75, linewidth=1,label=\"Urban\")\n",
    "\n",
    "\n"
   ]
  },
  {
   "cell_type": "code",
   "execution_count": 35,
   "metadata": {},
   "outputs": [
    {
     "data": {
      "text/plain": [
       "<function matplotlib.pyplot.show(*args, **kw)>"
      ]
     },
     "execution_count": 35,
     "metadata": {},
     "output_type": "execute_result"
    }
   ],
   "source": [
    "plt.show"
   ]
  },
  {
   "cell_type": "code",
   "execution_count": 36,
   "metadata": {},
   "outputs": [
    {
     "data": {
      "text/plain": [
       "<matplotlib.collections.PathCollection at 0x1d09e89bc88>"
      ]
     },
     "execution_count": 36,
     "metadata": {},
     "output_type": "execute_result"
    },
    {
     "data": {
      "image/png": "[encoded data removed]",
      "text/plain": [
       "<Figure size 432x288 with 1 Axes>"
      ]
     },
     "metadata": {
      "needs_background": "light"
     },
     "output_type": "display_data"
    }
   ],
   "source": [
    "\n",
    "plt.scatter(df_suburban_avg,df_suburban_driver,s=df_suburban_count,marker=\"o\", facecolors=\"Coral\",\n",
    "            edgecolors=\"black\",alpha=0.75, linewidth=1,label=\"SubUrban\")\n",
    "\n"
   ]
  },
  {
   "cell_type": "code",
   "execution_count": 37,
   "metadata": {},
   "outputs": [
    {
     "data": {
      "text/plain": [
       "<matplotlib.collections.PathCollection at 0x1d09e8d2358>"
      ]
     },
     "execution_count": 37,
     "metadata": {},
     "output_type": "execute_result"
    },
    {
     "data": {
      "image/png": "[encoded data removed]",
      "text/plain": [
       "<Figure size 432x288 with 1 Axes>"
      ]
     },
     "metadata": {
      "needs_background": "light"
     },
     "output_type": "display_data"
    }
   ],
   "source": [
    "plt.scatter(df_rural_avg,df_rural_driver,s=df_rural_count,marker=\"o\", facecolors=\"Coral\",\n",
    "            edgecolors=\"black\",alpha=0.75, linewidth=1,label=\"Rural\")"
   ]
  },
  {
   "cell_type": "code",
   "execution_count": null,
   "metadata": {},
   "outputs": [],
   "source": []
  }
 ],
 "metadata": {
  "kernelspec": {
   "display_name": "Python 3",
   "language": "python",
   "name": "python3"
  },
  "language_info": {
   "codemirror_mode": {
    "name": "ipython",
    "version": 3
   },
   "file_extension": ".py",
   "mimetype": "text/x-python",
   "name": "python",
   "nbconvert_exporter": "python",
   "pygments_lexer": "ipython3",
   "version": "3.7.1"
  }
 },
 "nbformat": 4,
 "nbformat_minor": 2
}
